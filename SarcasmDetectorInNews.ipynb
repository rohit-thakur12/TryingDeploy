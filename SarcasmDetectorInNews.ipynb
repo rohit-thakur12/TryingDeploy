{
  "nbformat": 4,
  "nbformat_minor": 0,
  "metadata": {
    "colab": {
      "name": "SarcasmDetectorInNews.ipynb",
      "provenance": []
    },
    "kernelspec": {
      "name": "python3",
      "display_name": "Python 3"
    },
    "accelerator": "GPU"
  },
  "cells": [
    {
      "cell_type": "code",
      "metadata": {
        "id": "8PiyLX65YQR8",
        "colab_type": "code",
        "colab": {}
      },
      "source": [
        "try:\n",
        "  %tensorflow_version 2.x\n",
        "except Exception:\n",
        "  pass"
      ],
      "execution_count": 0,
      "outputs": []
    },
    {
      "cell_type": "code",
      "metadata": {
        "id": "859yqntaYtkv",
        "colab_type": "code",
        "colab": {}
      },
      "source": [
        "# importing Libraries\n",
        "\n",
        "import tensorflow as tf\n",
        "import json\n",
        "\n",
        "from tensorflow.keras.preprocessing.text import Tokenizer\n",
        "from tensorflow.keras.preprocessing.sequence import pad_sequences "
      ],
      "execution_count": 0,
      "outputs": []
    },
    {
      "cell_type": "code",
      "metadata": {
        "id": "4Y1xu99FZFtw",
        "colab_type": "code",
        "colab": {}
      },
      "source": [
        "# Setting parameters\n",
        "\n",
        "vocab_size = 10000\n",
        "embedding_dim = 16\n",
        "max_length = 100\n",
        "trunc_type='post'\n",
        "padding_type='post'\n",
        "oov_tok = \"<OOV>\"\n",
        "training_size = 20000"
      ],
      "execution_count": 0,
      "outputs": []
    },
    {
      "cell_type": "code",
      "metadata": {
        "id": "XfJkAZtsZekS",
        "colab_type": "code",
        "colab": {
          "base_uri": "https://localhost:8080/",
          "height": 204
        },
        "outputId": "dfca2a0d-f71b-4827-f20a-744931922046"
      },
      "source": [
        "!wget --no-check-certificate \\\n",
        "    https://storage.googleapis.com/laurencemoroney-blog.appspot.com/sarcasm.json \\\n",
        "    -O /tmp/sarcasm.json"
      ],
      "execution_count": 5,
      "outputs": [
        {
          "output_type": "stream",
          "text": [
            "--2020-04-04 13:34:14--  https://storage.googleapis.com/laurencemoroney-blog.appspot.com/sarcasm.json\n",
            "Resolving storage.googleapis.com (storage.googleapis.com)... 74.125.204.128, 2404:6800:4008:c01::80\n",
            "Connecting to storage.googleapis.com (storage.googleapis.com)|74.125.204.128|:443... connected.\n",
            "HTTP request sent, awaiting response... 200 OK\n",
            "Length: 5643545 (5.4M) [application/json]\n",
            "Saving to: ‘/tmp/sarcasm.json’\n",
            "\n",
            "\r/tmp/sarcasm.json     0%[                    ]       0  --.-KB/s               \r/tmp/sarcasm.json   100%[===================>]   5.38M  --.-KB/s    in 0.03s   \n",
            "\n",
            "2020-04-04 13:34:15 (169 MB/s) - ‘/tmp/sarcasm.json’ saved [5643545/5643545]\n",
            "\n"
          ],
          "name": "stdout"
        }
      ]
    },
    {
      "cell_type": "code",
      "metadata": {
        "id": "WuImeTzSZimc",
        "colab_type": "code",
        "colab": {}
      },
      "source": [
        "# Loading the data \n",
        "\n",
        "with open(\"/tmp/sarcasm.json\", 'r') as f:\n",
        "    datastore = json.load(f)\n",
        "\n",
        "sentences = []\n",
        "labels = []\n",
        "\n",
        "for item in datastore:\n",
        "    sentences.append(item['headline'])\n",
        "    labels.append(item['is_sarcastic'])"
      ],
      "execution_count": 0,
      "outputs": []
    },
    {
      "cell_type": "code",
      "metadata": {
        "id": "rtrq3KErZrKZ",
        "colab_type": "code",
        "colab": {}
      },
      "source": [
        "# Splitting the dataset\n",
        "\n",
        "training_sentences = sentences[0:training_size]\n",
        "testing_sentences = sentences[training_size:]\n",
        "training_labels = labels[0:training_size]\n",
        "testing_labels = labels[training_size:]"
      ],
      "execution_count": 0,
      "outputs": []
    },
    {
      "cell_type": "code",
      "metadata": {
        "id": "WkcmUu_eZ0jc",
        "colab_type": "code",
        "colab": {}
      },
      "source": [
        "# Tokenizing the text and padding them\n",
        "\n",
        "tokenizer = Tokenizer(num_words=vocab_size, oov_token=oov_tok)\n",
        "tokenizer.fit_on_texts(training_sentences)\n",
        "\n",
        "word_index = tokenizer.word_index\n",
        "\n",
        "training_sequences = tokenizer.texts_to_sequences(training_sentences)\n",
        "training_padded = pad_sequences(training_sequences, maxlen=max_length, padding=padding_type, truncating=trunc_type)\n",
        "\n",
        "testing_sequences = tokenizer.texts_to_sequences(testing_sentences)\n",
        "testing_padded = pad_sequences(testing_sequences, maxlen=max_length, padding=padding_type, truncating=trunc_type)"
      ],
      "execution_count": 0,
      "outputs": []
    },
    {
      "cell_type": "code",
      "metadata": {
        "id": "_sCXOe4caCJ8",
        "colab_type": "code",
        "colab": {}
      },
      "source": [
        "# Converting the data into aaray so that it works with tensorflow 2.x\n",
        "\n",
        "import numpy as np\n",
        "training_padded = np.array(training_padded)\n",
        "training_labels = np.array(training_labels)\n",
        "testing_padded = np.array(testing_padded)\n",
        "testing_labels = np.array(testing_labels)"
      ],
      "execution_count": 0,
      "outputs": []
    },
    {
      "cell_type": "code",
      "metadata": {
        "id": "YPfPIs0HaOg3",
        "colab_type": "code",
        "colab": {}
      },
      "source": [
        "# Building the model\n",
        "\n",
        "model = tf.keras.Sequential([\n",
        "    tf.keras.layers.Embedding(vocab_size, embedding_dim, input_length=max_length),\n",
        "    tf.keras.layers.GlobalAveragePooling1D(),\n",
        "    tf.keras.layers.Dense(24, activation='relu'),\n",
        "    tf.keras.layers.Dense(1, activation='sigmoid')\n",
        "])\n",
        "model.compile(loss='binary_crossentropy',optimizer='adam',metrics=['accuracy'])"
      ],
      "execution_count": 0,
      "outputs": []
    },
    {
      "cell_type": "code",
      "metadata": {
        "id": "B2Bhyj0waWNp",
        "colab_type": "code",
        "colab": {
          "base_uri": "https://localhost:8080/",
          "height": 289
        },
        "outputId": "d8ccbe8f-7b00-428a-cf17-0c6162fcad1d"
      },
      "source": [
        "model.summary()\n"
      ],
      "execution_count": 11,
      "outputs": [
        {
          "output_type": "stream",
          "text": [
            "Model: \"sequential\"\n",
            "_________________________________________________________________\n",
            "Layer (type)                 Output Shape              Param #   \n",
            "=================================================================\n",
            "embedding (Embedding)        (None, 100, 16)           160000    \n",
            "_________________________________________________________________\n",
            "global_average_pooling1d (Gl (None, 16)                0         \n",
            "_________________________________________________________________\n",
            "dense (Dense)                (None, 24)                408       \n",
            "_________________________________________________________________\n",
            "dense_1 (Dense)              (None, 1)                 25        \n",
            "=================================================================\n",
            "Total params: 160,433\n",
            "Trainable params: 160,433\n",
            "Non-trainable params: 0\n",
            "_________________________________________________________________\n"
          ],
          "name": "stdout"
        }
      ]
    },
    {
      "cell_type": "code",
      "metadata": {
        "id": "QDjQ2z-Xaa3f",
        "colab_type": "code",
        "colab": {
          "base_uri": "https://localhost:8080/",
          "height": 1000
        },
        "outputId": "62131136-7bd9-4174-db72-d1fc4b26162c"
      },
      "source": [
        "num_epochs = 30\n",
        "history = model.fit(training_padded, training_labels, epochs=num_epochs, validation_data=(testing_padded, testing_labels), verbose=2)"
      ],
      "execution_count": 12,
      "outputs": [
        {
          "output_type": "stream",
          "text": [
            "Epoch 1/30\n",
            "625/625 - 3s - loss: 0.6511 - accuracy: 0.6154 - val_loss: 0.5382 - val_accuracy: 0.8055\n",
            "Epoch 2/30\n",
            "625/625 - 3s - loss: 0.4104 - accuracy: 0.8385 - val_loss: 0.3776 - val_accuracy: 0.8425\n",
            "Epoch 3/30\n",
            "625/625 - 3s - loss: 0.3010 - accuracy: 0.8819 - val_loss: 0.3496 - val_accuracy: 0.8547\n",
            "Epoch 4/30\n",
            "625/625 - 3s - loss: 0.2501 - accuracy: 0.9042 - val_loss: 0.3520 - val_accuracy: 0.8454\n",
            "Epoch 5/30\n",
            "625/625 - 3s - loss: 0.2162 - accuracy: 0.9168 - val_loss: 0.3454 - val_accuracy: 0.8554\n",
            "Epoch 6/30\n",
            "625/625 - 3s - loss: 0.1887 - accuracy: 0.9295 - val_loss: 0.3543 - val_accuracy: 0.8532\n",
            "Epoch 7/30\n",
            "625/625 - 3s - loss: 0.1685 - accuracy: 0.9384 - val_loss: 0.3684 - val_accuracy: 0.8521\n",
            "Epoch 8/30\n",
            "625/625 - 3s - loss: 0.1491 - accuracy: 0.9456 - val_loss: 0.3856 - val_accuracy: 0.8517\n",
            "Epoch 9/30\n",
            "625/625 - 3s - loss: 0.1327 - accuracy: 0.9529 - val_loss: 0.4051 - val_accuracy: 0.8515\n",
            "Epoch 10/30\n",
            "625/625 - 3s - loss: 0.1210 - accuracy: 0.9571 - val_loss: 0.4574 - val_accuracy: 0.8351\n",
            "Epoch 11/30\n",
            "625/625 - 3s - loss: 0.1096 - accuracy: 0.9625 - val_loss: 0.4536 - val_accuracy: 0.8474\n",
            "Epoch 12/30\n",
            "625/625 - 3s - loss: 0.1002 - accuracy: 0.9647 - val_loss: 0.4831 - val_accuracy: 0.8396\n",
            "Epoch 13/30\n",
            "625/625 - 3s - loss: 0.0897 - accuracy: 0.9706 - val_loss: 0.5151 - val_accuracy: 0.8413\n",
            "Epoch 14/30\n",
            "625/625 - 3s - loss: 0.0830 - accuracy: 0.9728 - val_loss: 0.5543 - val_accuracy: 0.8374\n",
            "Epoch 15/30\n",
            "625/625 - 3s - loss: 0.0758 - accuracy: 0.9759 - val_loss: 0.5934 - val_accuracy: 0.8325\n",
            "Epoch 16/30\n",
            "625/625 - 3s - loss: 0.0709 - accuracy: 0.9755 - val_loss: 0.6116 - val_accuracy: 0.8301\n",
            "Epoch 17/30\n",
            "625/625 - 3s - loss: 0.0636 - accuracy: 0.9796 - val_loss: 0.6540 - val_accuracy: 0.8307\n",
            "Epoch 18/30\n",
            "625/625 - 3s - loss: 0.0583 - accuracy: 0.9817 - val_loss: 0.6757 - val_accuracy: 0.8305\n",
            "Epoch 19/30\n",
            "625/625 - 4s - loss: 0.0539 - accuracy: 0.9836 - val_loss: 0.7131 - val_accuracy: 0.8292\n",
            "Epoch 20/30\n",
            "625/625 - 3s - loss: 0.0499 - accuracy: 0.9847 - val_loss: 0.7755 - val_accuracy: 0.8244\n",
            "Epoch 21/30\n",
            "625/625 - 3s - loss: 0.0441 - accuracy: 0.9858 - val_loss: 0.8557 - val_accuracy: 0.8188\n",
            "Epoch 22/30\n",
            "625/625 - 3s - loss: 0.0406 - accuracy: 0.9876 - val_loss: 0.8401 - val_accuracy: 0.8216\n",
            "Epoch 23/30\n",
            "625/625 - 3s - loss: 0.0397 - accuracy: 0.9873 - val_loss: 0.9142 - val_accuracy: 0.8183\n",
            "Epoch 24/30\n",
            "625/625 - 3s - loss: 0.0352 - accuracy: 0.9895 - val_loss: 0.9392 - val_accuracy: 0.8153\n",
            "Epoch 25/30\n",
            "625/625 - 3s - loss: 0.0323 - accuracy: 0.9901 - val_loss: 0.9504 - val_accuracy: 0.8182\n",
            "Epoch 26/30\n",
            "625/625 - 3s - loss: 0.0302 - accuracy: 0.9915 - val_loss: 1.0203 - val_accuracy: 0.8132\n",
            "Epoch 27/30\n",
            "625/625 - 3s - loss: 0.0266 - accuracy: 0.9930 - val_loss: 1.0323 - val_accuracy: 0.8155\n",
            "Epoch 28/30\n",
            "625/625 - 3s - loss: 0.0260 - accuracy: 0.9925 - val_loss: 1.1433 - val_accuracy: 0.8134\n",
            "Epoch 29/30\n",
            "625/625 - 3s - loss: 0.0241 - accuracy: 0.9930 - val_loss: 1.1143 - val_accuracy: 0.8134\n",
            "Epoch 30/30\n",
            "625/625 - 3s - loss: 0.0211 - accuracy: 0.9942 - val_loss: 1.1379 - val_accuracy: 0.8101\n"
          ],
          "name": "stdout"
        }
      ]
    },
    {
      "cell_type": "code",
      "metadata": {
        "id": "d5Gd_rDLagow",
        "colab_type": "code",
        "colab": {
          "base_uri": "https://localhost:8080/",
          "height": 541
        },
        "outputId": "7f769d81-7d0e-4ff5-fa55-da50bdd566a1"
      },
      "source": [
        "# looking at the stats\n",
        "\n",
        "import matplotlib.pyplot as plt\n",
        "\n",
        "\n",
        "def plot_graphs(history, string):\n",
        "  plt.plot(history.history[string])\n",
        "  plt.plot(history.history['val_'+string])\n",
        "  plt.xlabel(\"Epochs\")\n",
        "  plt.ylabel(string)\n",
        "  plt.legend([string, 'val_'+string])\n",
        "  plt.show()\n",
        "  \n",
        "plot_graphs(history, \"accuracy\")\n",
        "plot_graphs(history, \"loss\")"
      ],
      "execution_count": 13,
      "outputs": [
        {
          "output_type": "display_data",
          "data": {
            "image/png": "[encoded data removed]",
            "text/plain": [
              "<Figure size 432x288 with 1 Axes>"
            ]
          },
          "metadata": {
            "tags": []
          }
        },
        {
          "output_type": "display_data",
          "data": {
            "image/png": "[encoded data removed]",
            "text/plain": [
              "<Figure size 432x288 with 1 Axes>"
            ]
          },
          "metadata": {
            "tags": []
          }
        }
      ]
    },
    {
      "cell_type": "code",
      "metadata": {
        "id": "8FTl-CD9bF2H",
        "colab_type": "code",
        "colab": {
          "base_uri": "https://localhost:8080/",
          "height": 697
        },
        "outputId": "f8259869-a47b-4414-ebc4-d3e18c7d268f"
      },
      "source": [
        "tf.keras.backend.clear_session()\n",
        "\n",
        "# Building the model\n",
        "\n",
        "model = tf.keras.Sequential([\n",
        "    tf.keras.layers.Embedding(vocab_size, embedding_dim, input_length=max_length),\n",
        "    tf.keras.layers.GlobalAveragePooling1D(),\n",
        "    tf.keras.layers.Dense(60, activation='relu'),\n",
        "    tf.keras.layers.Dense(24, activation='relu'),\n",
        "    tf.keras.layers.Dropout(0.2),\n",
        "    tf.keras.layers.Dense(2,activation='softmax')\n",
        "])\n",
        "\n",
        "optim = tf.keras.optimizers.Adam(learning_rate=0.001)\n",
        "model.compile(loss=tf.keras.losses.SparseCategoricalCrossentropy(from_logits=True),optimizer=optim,metrics=['accuracy'])\n",
        "\n",
        "num_epochs = 20\n",
        "history = model.fit(training_padded, training_labels, epochs=num_epochs, validation_data=(testing_padded, testing_labels), verbose=2)"
      ],
      "execution_count": 18,
      "outputs": [
        {
          "output_type": "stream",
          "text": [
            "Epoch 1/20\n",
            "625/625 - 3s - loss: 0.6388 - accuracy: 0.6418 - val_loss: 0.4979 - val_accuracy: 0.8229\n",
            "Epoch 2/20\n",
            "625/625 - 3s - loss: 0.4572 - accuracy: 0.8552 - val_loss: 0.4597 - val_accuracy: 0.8499\n",
            "Epoch 3/20\n",
            "625/625 - 3s - loss: 0.4158 - accuracy: 0.8981 - val_loss: 0.4555 - val_accuracy: 0.8504\n",
            "Epoch 4/20\n",
            "625/625 - 3s - loss: 0.3938 - accuracy: 0.9195 - val_loss: 0.4621 - val_accuracy: 0.8416\n",
            "Epoch 5/20\n",
            "625/625 - 3s - loss: 0.3815 - accuracy: 0.9327 - val_loss: 0.4604 - val_accuracy: 0.8444\n",
            "Epoch 6/20\n",
            "625/625 - 3s - loss: 0.3712 - accuracy: 0.9427 - val_loss: 0.4637 - val_accuracy: 0.8444\n",
            "Epoch 7/20\n",
            "625/625 - 3s - loss: 0.3661 - accuracy: 0.9481 - val_loss: 0.4621 - val_accuracy: 0.8463\n",
            "Epoch 8/20\n",
            "625/625 - 3s - loss: 0.3605 - accuracy: 0.9531 - val_loss: 0.4719 - val_accuracy: 0.8332\n",
            "Epoch 9/20\n",
            "625/625 - 3s - loss: 0.3575 - accuracy: 0.9565 - val_loss: 0.4766 - val_accuracy: 0.8316\n",
            "Epoch 10/20\n",
            "625/625 - 3s - loss: 0.3540 - accuracy: 0.9599 - val_loss: 0.4652 - val_accuracy: 0.8426\n",
            "Epoch 11/20\n",
            "625/625 - 3s - loss: 0.3512 - accuracy: 0.9623 - val_loss: 0.4770 - val_accuracy: 0.8316\n",
            "Epoch 12/20\n",
            "625/625 - 3s - loss: 0.3509 - accuracy: 0.9622 - val_loss: 0.4668 - val_accuracy: 0.8417\n",
            "Epoch 13/20\n",
            "625/625 - 3s - loss: 0.3497 - accuracy: 0.9645 - val_loss: 0.4689 - val_accuracy: 0.8398\n",
            "Epoch 14/20\n",
            "625/625 - 3s - loss: 0.3478 - accuracy: 0.9656 - val_loss: 0.4694 - val_accuracy: 0.8405\n",
            "Epoch 15/20\n",
            "625/625 - 3s - loss: 0.3505 - accuracy: 0.9625 - val_loss: 0.4705 - val_accuracy: 0.8390\n",
            "Epoch 16/20\n",
            "625/625 - 3s - loss: 0.3456 - accuracy: 0.9674 - val_loss: 0.4744 - val_accuracy: 0.8362\n",
            "Epoch 17/20\n",
            "625/625 - 3s - loss: 0.3456 - accuracy: 0.9677 - val_loss: 0.4860 - val_accuracy: 0.8220\n",
            "Epoch 18/20\n",
            "625/625 - 3s - loss: 0.3460 - accuracy: 0.9673 - val_loss: 0.4736 - val_accuracy: 0.8354\n",
            "Epoch 19/20\n",
            "625/625 - 3s - loss: 0.3482 - accuracy: 0.9643 - val_loss: 0.4694 - val_accuracy: 0.8414\n",
            "Epoch 20/20\n",
            "625/625 - 3s - loss: 0.3433 - accuracy: 0.9700 - val_loss: 0.4727 - val_accuracy: 0.8375\n"
          ],
          "name": "stdout"
        }
      ]
    },
    {
      "cell_type": "code",
      "metadata": {
        "id": "XZ09eE3gb-0I",
        "colab_type": "code",
        "colab": {
          "base_uri": "https://localhost:8080/",
          "height": 543
        },
        "outputId": "192881cc-d96b-41fa-d457-932003e58c78"
      },
      "source": [
        "# looking at the stats\n",
        "\n",
        "import matplotlib.pyplot as plt\n",
        "\n",
        "\n",
        "def plot_graphs(history, string):\n",
        "  plt.plot(history.history[string])\n",
        "  plt.plot(history.history['val_'+string])\n",
        "  plt.xlabel(\"Epochs\")\n",
        "  plt.ylabel(string)\n",
        "  plt.legend([string, 'val_'+string])\n",
        "  plt.show()\n",
        "  \n",
        "plot_graphs(history, \"accuracy\")\n",
        "plot_graphs(history, \"loss\")"
      ],
      "execution_count": 19,
      "outputs": [
        {
          "output_type": "display_data",
          "data": {
            "image/png": "[encoded data removed]",
            "text/plain": [
              "<Figure size 432x288 with 1 Axes>"
            ]
          },
          "metadata": {
            "tags": []
          }
        },
        {
          "output_type": "display_data",
          "data": {
            "image/png": "[encoded data removed]",
            "text/plain": [
              "<Figure size 432x288 with 1 Axes>"
            ]
          },
          "metadata": {
            "tags": []
          }
        }
      ]
    },
    {
      "cell_type": "code",
      "metadata": {
        "id": "oCzuM-DXdcta",
        "colab_type": "code",
        "colab": {}
      },
      "source": [
        "model.save('detect.h5')"
      ],
      "execution_count": 0,
      "outputs": []
    },
    {
      "cell_type": "code",
      "metadata": {
        "id": "0FGNmo6qd8DI",
        "colab_type": "code",
        "colab": {}
      },
      "source": [
        ""
      ],
      "execution_count": 0,
      "outputs": []
    }
  ]
}